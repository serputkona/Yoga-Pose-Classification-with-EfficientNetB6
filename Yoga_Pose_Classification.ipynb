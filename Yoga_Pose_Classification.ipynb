{
  "cells": [
    {
      "cell_type": "code",
      "execution_count": null,
      "metadata": {
        "id": "3o5KlVb5W3CG"
      },
      "outputs": [],
      "source": [
        "import os\n",
        "import numpy as np\n",
        "import pandas as pd\n",
        "from sklearn.model_selection import train_test_split\n",
        "import matplotlib.pyplot as plt\n"
      ]
    },
    {
      "cell_type": "code",
      "execution_count": null,
      "metadata": {
        "id": "Otjav9s0RGNV"
      },
      "outputs": [],
      "source": [
        "from google.colab import drive\n",
        "drive.mount('/content/drive', force_remount=True)"
      ]
    },
    {
      "cell_type": "code",
      "execution_count": null,
      "metadata": {
        "id": "zqYiR2thEAjQ"
      },
      "outputs": [],
      "source": [
        "!pip install segmentation_models"
      ]
    },
    {
      "cell_type": "code",
      "execution_count": null,
      "metadata": {
        "colab": {
          "base_uri": "https://localhost:8080/"
        },
        "id": "cozCdj92D0z8",
        "outputId": "9eeb5f73-9a01-4874-c500-6f5237e42a23"
      },
      "outputs": [
        {
          "output_type": "stream",
          "name": "stdout",
          "text": [
            "Segmentation Models: using `tf.keras` framework.\n"
          ]
        }
      ],
      "source": [
        "!pip install -U -q segmentation-models\n",
        "\n",
        "import os\n",
        "os.environ[\"SM_FRAMEWORK\"] = \"tf.keras\"\n",
        "\n",
        "from tensorflow import keras\n",
        "import segmentation_models as sm\n",
        "\n",
        "from segmentation_models import Unet"
      ]
    },
    {
      "cell_type": "code",
      "execution_count": null,
      "metadata": {
        "id": "VPPC1s_tYgfI"
      },
      "outputs": [],
      "source": [
        "\n",
        "image_folder_path = ('/content/drive/MyDrive/Bootcamp_competition_2023/images/train_images')\n",
        "csv_file_path = ('/content/drive/MyDrive/Bootcamp_competition_2023/train.csv')\n",
        "data = pd.read_csv(csv_file_path)\n",
        "\n"
      ]
    },
    {
      "cell_type": "code",
      "source": [
        "\"\"\"\n",
        "!pip install rembg\n",
        "from rembg import remove\n",
        "\n",
        "filename = '8e088243586ca5318ab22e73d4059c52.jpg'\n",
        "input_folder = image_folder_path\n",
        "\n",
        "if filename.lower().endswith(('.png', '.jpg', '.jpeg')):\n",
        "      input_path = os.path.join(input_folder, filename)\n",
        "      output_path = os.path.join(output_folder, filename)\n",
        "\n",
        "        # Open the input image and remove the background\n",
        "      with open(input_path, 'rb') as inp_file, open(output_path, 'wb') as out_file:\n",
        "          img = inp_file.read()\n",
        "          out_img = remove(img)\n",
        "          out_file.write(out_img)\n",
        "\n",
        "      print(f\"Processed: {filename}\")\n",
        "\n",
        "print(\"Background removal completed.\")\n",
        "\"\"\""
      ],
      "metadata": {
        "id": "d90pM_VKWn_D"
      },
      "execution_count": null,
      "outputs": []
    },
    {
      "cell_type": "code",
      "source": [
        "\"\"\"\n",
        "import os\n",
        "from PIL import Image\n",
        "folder_path = output_folder\n",
        "extensions = []\n",
        "for filee in os.listdir(folder_path):\n",
        "      file_path = os.path.join(folder_path, filee)\n",
        "      print('** Path: {}  **'.format(file_path), end=\"\\r\", flush=True)\n",
        "      im = Image.open(file_path)\n",
        "      rgb_im = im.convert('RGB')\n",
        "      if filee.split('.')[1] not in extensions:\n",
        "          extensions.append(filee.split('.')[1])\n",
        "\"\"\""
      ],
      "metadata": {
        "colab": {
          "base_uri": "https://localhost:8080/"
        },
        "id": "9XuLbKbFQAnU",
        "outputId": "e8b238b5-085c-4fb7-ac76-d77978b1d6eb"
      },
      "execution_count": null,
      "outputs": [
        {
          "output_type": "stream",
          "name": "stdout",
          "text": []
        }
      ]
    },
    {
      "cell_type": "code",
      "execution_count": null,
      "metadata": {
        "id": "bV0pbabTclp2"
      },
      "outputs": [],
      "source": [
        "!pip install tensorflow-addons\n",
        "import tensorflow as tf\n",
        "from keras.preprocessing.image import ImageDataGenerator\n",
        "from keras.applications import MobileNetV2\n",
        "from keras.models import Model, Sequential\n",
        "from keras.layers import Conv2D, MaxPooling2D, GlobalAveragePooling2D, Dense, Dropout, Flatten, BatchNormalization, Add, Input\n",
        "from keras.regularizers import l2\n",
        "from keras.callbacks import LearningRateScheduler\n",
        "from keras.optimizers import Adam\n",
        "from keras.callbacks import EarlyStopping, ReduceLROnPlateau\n",
        "from keras.applications import ResNet50\n",
        "from tensorflow_addons.metrics import F1Score\n",
        "import os\n",
        "from keras.applications.efficientnet import EfficientNetB6"
      ]
    },
    {
      "cell_type": "code",
      "execution_count": null,
      "metadata": {
        "id": "ec-xXgdJoN5O"
      },
      "outputs": [],
      "source": [
        "train_data, validation_data = train_test_split(data, test_size=0.2, random_state=42)\n",
        "image_size = (224, 224)\n",
        "\n",
        "train_data['class_6'] = train_data['class_6'].astype(str)\n",
        "validation_data['class_6'] = validation_data['class_6'].astype(str)\n",
        "\"\"\"\n",
        "# Генератори даних\n",
        "train_datagen = ImageDataGenerator(\n",
        "    rescale=1.0/255.0,\n",
        "    #rotation_range=20,\n",
        "    width_shift_range=0.2,\n",
        "    height_shift_range=0.2,\n",
        "    #shear_range=0.2,\n",
        "    zoom_range=0.2,\n",
        "    horizontal_flip=False,\n",
        "    fill_mode='nearest'\n",
        ")\n",
        "\"\"\"\n",
        "train_datagen = ImageDataGenerator(\n",
        "    rescale=1.0/255.0,\n",
        "    #rotation_range=20,\n",
        "    width_shift_range=0.2,\n",
        "    height_shift_range=0.2,\n",
        "    shear_range=0.2,\n",
        "    zoom_range=0.2,\n",
        "    horizontal_flip=True,\n",
        "    fill_mode='nearest')\n",
        "\n",
        "train_generator = train_datagen.flow_from_dataframe(\n",
        "    dataframe=train_data,\n",
        "    directory=image_folder_path,\n",
        "    x_col='image_id',\n",
        "    y_col='class_6',\n",
        "    target_size=image_size,\n",
        "    batch_size=16,\n",
        "    class_mode='categorical'\n",
        ")\n",
        "valid_datagen = ImageDataGenerator(rescale=1.0/255.0)\n",
        "validation_generator = valid_datagen.flow_from_dataframe(\n",
        "    dataframe=validation_data,\n",
        "    directory=image_folder_path,\n",
        "    x_col='image_id',\n",
        "    y_col='class_6',\n",
        "    target_size=image_size,\n",
        "    batch_size=16,\n",
        "    class_mode='categorical'\n",
        ")"
      ]
    },
    {
      "cell_type": "code",
      "execution_count": null,
      "metadata": {
        "id": "3-UU-WLB9s3r"
      },
      "outputs": [],
      "source": [
        "import matplotlib.pyplot as plt\n",
        "def plot_images(image_generator, num_images=3):\n",
        "    batch, labels = next(image_generator)\n",
        "\n",
        "    indices = range(num_images)\n",
        "    selected_images = [batch[i] for i in indices]\n",
        "    selected_labels = [labels[i] for i in indices]\n",
        "\n",
        "    plt.figure(figsize=(10, 6))\n",
        "    for i in range(num_images):\n",
        "        plt.subplot(1, num_images, i + 1)\n",
        "        plt.imshow(selected_images[i])\n",
        "        plt.title(f'Class: {selected_labels[i].argmax()}')\n",
        "        plt.axis('off')\n",
        "    plt.show()\n",
        "\n",
        "plot_images(train_generator)\n",
        "\n",
        "plot_images(validation_generator)\n"
      ]
    },
    {
      "cell_type": "code",
      "execution_count": null,
      "metadata": {
        "id": "nEpM7WqAeygt"
      },
      "outputs": [],
      "source": [
        "\n",
        "base_model = EfficientNetB6(input_shape = (224,224,3), weights='imagenet', include_top=False)\n",
        "for layer in base_model.layers[-10:]:\n",
        "    layer.trainable = True\n",
        "x = base_model.output\n",
        "\n",
        "\n",
        "x = Conv2D(512, (3, 3), activation='relu', padding = 'valid')(x)\n",
        "x = BatchNormalization()(x)\n",
        "x = MaxPooling2D((2, 2))(x)\n",
        "x = Dropout(0.4)(x)\n",
        "\n",
        "x = Conv2D(128, (3, 3), activation='relu', padding='same')(x)\n",
        "x = BatchNormalization()(x)\n",
        "x = MaxPooling2D((2, 2))(x)\n",
        "\n",
        "x = Dropout(0.4)(x)\n",
        "\n",
        "x = Dense(512, activation = 'relu',  kernel_regularizer=l2(0.007))(x)\n",
        "x = Dropout(0.5)(x)\n",
        "x = Dense(128, activation = 'relu',  kernel_regularizer=l2(0.007))(x)\n",
        "x = GlobalAveragePooling2D()(x)\n",
        "predictions = Dense(6, activation = 'softmax')(x)\n",
        "\n",
        "model = Model(inputs = base_model.input, outputs = predictions)\n",
        "\n",
        "\n",
        "optimizer = Adam(learning_rate=0.001)\n",
        "\n",
        "scheduler = ReduceLROnPlateau(monitor='val_loss', factor=0.2, patience=2, min_lr=0.00001)\n",
        "early_stopping = EarlyStopping(monitor='val_loss', patience=15, restore_best_weights=True)\n",
        "\n",
        "\n",
        "model.compile(optimizer = optimizer, loss = 'categorical_crossentropy', metrics = [F1Score(num_classes=6, average=\"micro\")])\n",
        "\n",
        "\n",
        "history = model.fit(train_generator, epochs = 32, validation_data = validation_generator, callbacks=[scheduler, early_stopping])\n",
        "model.save_weights('final_model_weights.h5')"
      ]
    },
    {
      "cell_type": "code",
      "source": [
        "model.load_weights('final_model_weights.h5')\n",
        "history = model.fit(train_generator, epochs = 40, validation_data = validation_generator)"
      ],
      "metadata": {
        "id": "6Od9124KfhKl"
      },
      "execution_count": null,
      "outputs": []
    },
    {
      "cell_type": "code",
      "execution_count": null,
      "metadata": {
        "id": "X2lpBNkx60Ej"
      },
      "outputs": [],
      "source": [
        "def accuracy_loss_plot(history):\n",
        "  plt.figure(figsize = (12,4))\n",
        "\n",
        "  plt.subplot(1,2,1)\n",
        "  plt.plot(history.history['f1_score'], label = 'Training F1')\n",
        "  plt.plot(history.history['val_f1_score'], label = 'Validation F1')\n",
        "  plt.title('Accuracy')\n",
        "  plt.ylabel('Accuracy')\n",
        "  plt.xlabel('Epoch')\n",
        "\n",
        "  plt.subplot(1,2,2)\n",
        "  plt.plot(history.history['loss'], label = 'Training loss')\n",
        "  plt.plot(history.history['val_loss'], label = 'Validation loss')\n",
        "  plt.title('Loss')\n",
        "  plt.ylabel('Loss')\n",
        "  plt.xlabel('Epoch')\n",
        "\n",
        "  plt.tight_layout()\n",
        "  plt.show()\n",
        "\n",
        "accuracy_loss_plot(history)"
      ]
    },
    {
      "cell_type": "code",
      "source": [
        "from sklearn.metrics import classification_report, confusion_matrix\n",
        "\n",
        "num_of_test_samples = 472\n",
        "batch_size = 64\n",
        "\n",
        "Y_pred = model.predict(validation_generator)\n",
        "y_pred = np.argmax(Y_pred, axis=1)\n",
        "print('Confusion Matrix')\n",
        "print(confusion_matrix(validation_generator.classes, y_pred))\n",
        "print('Classification Report')\n",
        "target_names = ['0', '1', '2', '3', '4', '5']\n",
        "print(classification_report(validation_generator.classes, y_pred, target_names=target_names))"
      ],
      "metadata": {
        "id": "F4puLcGnRLsq"
      },
      "execution_count": null,
      "outputs": []
    }
  ],
  "metadata": {
    "accelerator": "GPU",
    "colab": {
      "provenance": [],
      "gpuType": "T4"
    },
    "kernelspec": {
      "display_name": "Python 3",
      "name": "python3"
    },
    "language_info": {
      "name": "python"
    }
  },
  "nbformat": 4,
  "nbformat_minor": 0
}